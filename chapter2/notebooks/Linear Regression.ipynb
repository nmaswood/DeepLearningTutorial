{
 "cells": [
  {
   "cell_type": "markdown",
   "metadata": {},
   "source": [
    "# Linear Regression\n"
   ]
  },
  {
   "cell_type": "markdown",
   "metadata": {},
   "source": [
    "## What?\n",
    "\n",
    "Linear regression is a way of modeling the relationship between a scalar dependent variable y and one or more explanatory variables\n",
    "\n",
    "(in the simplest case this is just)\n",
    "\n",
    "$$ F(x) = mx + b $$ \n",
    "\n",
    "Lets look at a (contrived) example:\n",
    "\n",
    "$$ F(x) = (9/5)x + 32$$\n",
    "\n",
    "This equation states the relationship between the temperature in the celsius scale to the farenheit scale. We know it well.\n",
    "\n",
    "But what if you didn't know it?\n",
    "\n",
    "You do have two therometers, one that measures the temperature in celsius and the other in farenheit. The only catch is they are not perfect and sometimes mismeasure the temperature."
   ]
  },
  {
   "cell_type": "code",
   "execution_count": 1,
   "metadata": {
    "collapsed": true
   },
   "outputs": [],
   "source": [
    "%matplotlib inline\n",
    "import numpy as np\n",
    "import matplotlib.pyplot as plt\n",
    "import pandas as pd\n",
    "\n",
    "def convert(temp_in_c):\n",
    "    \n",
    "    \"\"\" converts a temperature from celsius to farenheit\n",
    "    \n",
    "    Args:\n",
    "        temp_in_c<int>\n",
    "    \n",
    "    Return:\n",
    "        the temperature in farenheit<int>\n",
    "    \"\"\"\n",
    "    \n",
    "    return temp_in_c * (9/5) + 32\n",
    "\n",
    "def measurements():\n",
    "    \n",
    "    \"\"\"\n",
    "    \n",
    "    For number_of_days days declares the temperature and measures it with noise\n",
    "    \n",
    "    Return:\n",
    "        A dataframe containing the actual temp in c the measured temp in f\n",
    "    \n",
    "    \"\"\"\n",
    "    \n",
    "    number_of_days = 100\n",
    "    \n",
    "    # the temperature is usually 20 but can vary by 10 degrees at a time\n",
    "    \n",
    "    average_temperature, standard_deviation = 20, 10\n",
    "    actual_c = np.random.normal(average_temperature, standard_deviation, number_of_days)\n",
    "    \n",
    "    # convert c to f\n",
    "    \n",
    "    actual_f = convert(actual_c)\n",
    "    \n",
    "    # the therometer is usually 2 off but can be off by up to 4 degrees\n",
    "    \n",
    "    average_jankiness, standard_jankiness = 2, 2\n",
    "    temperature_deviations = np.random.normal(average_jankiness, standard_jankiness, number_of_days)\n",
    "    \n",
    "    measured_f = actual_f + temperature_deviations\n",
    "    \n",
    "    return pd.DataFrame({\n",
    "        'actual_c': actual_c,\n",
    "        'actual_f': actual_f,\n",
    "        'measured_f': measured_f,\n",
    "    })\n",
    "    \n",
    "data = measurements()\n",
    "\n",
    "#plt.scatter(data['actual_c'],data['measured_f'])\n"
   ]
  },
  {
   "cell_type": "code",
   "execution_count": 144,
   "metadata": {},
   "outputs": [
    {
     "name": "stdout",
     "output_type": "stream",
     "text": [
      "2117.47157237 7196.50579862 1.59863160031\n",
      "Coefficient of 1.76936230300193 compared to actual 1.8\n",
      "Intercept of 34.499314207949205 compared to actual 32\n"
     ]
    }
   ],
   "source": [
    "from sklearn import linear_model\n",
    "\n",
    "def do_scikit_learn_regresssion():\n",
    "    \n",
    "    \"\"\"\n",
    "    \n",
    "    Uses scikit learn as a black box to perform linear regression\n",
    "    \n",
    "    \"\"\"\n",
    "    \n",
    "    \n",
    "    regr = linear_model.LinearRegression()\n",
    "    x = data['actual_c'].values.reshape(100,1)\n",
    "    y = data['measured_f'].values.reshape(100,1)\n",
    "    print (x.sum(),y.sum(), y.sum()/ x.sum() - 1.8)\n",
    "    \n",
    "    regr.fit(data['actual_c'].values.reshape(100,1), data['measured_f'].values.reshape(100,1))\n",
    "    \n",
    "    return '\\n'.join((\n",
    "        f'Coefficient of {regr.coef_[0][0]} compared to actual {9/5}',\n",
    "        f'Intercept of {regr.intercept_[0]} compared to actual {32}'\n",
    "    ))\n",
    "     \n",
    "print (do_scikit_learn_regresssion())"
   ]
  },
  {
   "cell_type": "markdown",
   "metadata": {},
   "source": [
    "# How does Linear Regression Work?\n",
    "\n",
    "### Linear Regression is an optimization problem\n",
    "\n",
    "Find the values of m and b that minimize the following function\n",
    "\n",
    "$$ F(m,b) = \\frac{1}{2} \\sum_i \\left(y_i - x_i m - b \\right)^2$$\n",
    "\n",
    "### How do we find the minimum of a convex function?\n",
    "Set the derivative equal to zero and solve \n",
    "\n",
    "$$ \\frac{\\partial F(m,b)}{\\partial b} = $$\n",
    "\n",
    "Substitue the value calculated for b into the next equation\n",
    "\n",
    "$$ \\frac{\\partial F(m,b)}{\\partial m} = $$\n",
    "\n",
    "Substitue the value calculated for b into the equation where m is minimized\n",
    "\n",
    "### The following equation is retrieved:\n",
    "\n",
    "$$foo $$"
   ]
  },
  {
   "cell_type": "code",
   "execution_count": 2,
   "metadata": {
    "collapsed": true
   },
   "outputs": [],
   "source": [
    "def perform_linear_regressions(xs, ys):\n",
    "    \n",
    "    \n",
    "    return m, x\n"
   ]
  }
 ],
 "metadata": {
  "kernelspec": {
   "display_name": "Python 3",
   "language": "python",
   "name": "python3"
  },
  "language_info": {
   "codemirror_mode": {
    "name": "ipython",
    "version": 3
   },
   "file_extension": ".py",
   "mimetype": "text/x-python",
   "name": "python",
   "nbconvert_exporter": "python",
   "pygments_lexer": "ipython3",
   "version": "3.6.0"
  }
 },
 "nbformat": 4,
 "nbformat_minor": 2
}
