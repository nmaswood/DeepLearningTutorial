{
 "cells": [
  {
   "cell_type": "markdown",
   "metadata": {},
   "source": [
    "# Linear Regression Introduction"
   ]
  },
  {
   "cell_type": "markdown",
   "metadata": {},
   "source": [
    "## What?\n",
    "\n",
    "Linear regression is a way of modeling the relationship between a __scalar dependent variable y and one or more explanatory variables__\n",
    "\n",
    "(in the simplest case this is just)\n",
    "\n",
    "$$ F(x) = mx + b $$ \n",
    "\n",
    "Lets look at a (contrived) example:\n",
    "\n",
    "$$ F(x) = (9/5)x + 32$$\n",
    "\n",
    "This equation states the relationship between the temperature in the celsius scale to the farenheit scale. We know it well.\n",
    "\n",
    "But what if you didn't know it?\n",
    "\n",
    "You do have two therometers, one that measures the temperature in celsius and the other in farenheit. The only catch is they are not perfect are sometimes give out noisy (slightly wrong measurements)"
   ]
  },
  {
   "cell_type": "code",
   "execution_count": 14,
   "metadata": {},
   "outputs": [
    {
     "data": {
      "text/plain": [
       "<matplotlib.collections.PathCollection at 0x109591358>"
      ]
     },
     "execution_count": 14,
     "metadata": {},
     "output_type": "execute_result"
    },
    {
     "data": {
      "image/png": "[encoded data removed]",
      "text/plain": [
       "<matplotlib.figure.Figure at 0x1099aec50>"
      ]
     },
     "metadata": {},
     "output_type": "display_data"
    }
   ],
   "source": [
    "%matplotlib inline\n",
    "import numpy as np\n",
    "import matplotlib.pyplot as plt\n",
    "import pandas as pd\n",
    "from shared import do_scikit_learn_regresssion, convert, measurements\n",
    "\n",
    "# Collect noisy measurements\n",
    "\n",
    "data = measurements()\n",
    "\n",
    "# plot the temperature in c against temp in farenheit\n",
    "\n",
    "plt.scatter(data['c'],data['f'])\n",
    "\n",
    "# data.head()"
   ]
  },
  {
   "cell_type": "code",
   "execution_count": 12,
   "metadata": {},
   "outputs": [
    {
     "name": "stdout",
     "output_type": "stream",
     "text": [
      "Coefficient of 1.7757570709445156 compared to actual 1.8\n",
      "Intercept of 31.49411111606765 compared to actual 32\n"
     ]
    },
    {
     "data": {
      "image/png": "[encoded data removed]",
      "text/plain": [
       "<matplotlib.figure.Figure at 0x109e2d128>"
      ]
     },
     "metadata": {},
     "output_type": "display_data"
    }
   ],
   "source": [
    "from shared import do_scikit_learn_regresssion, plot_and_compare\n",
    "\n",
    "\"\"\"\n",
    "\n",
    "Using scikit learn as a black box we get the following values?\n",
    "\n",
    "It's pretty close, so let's learn how to recieve these values ourselves.\n",
    "\n",
    "\"\"\"\n",
    "m_scikit, b_scikit = do_scikit_learn_regresssion(data, verbose = True)\n",
    "\n",
    "def plot_and_compare(xs,ys, m,b):\n",
    "    \n",
    "    plt.scatter(xs, ys, color = 'blue')\n",
    "\n",
    "    plt.plot(xs, (xs * m) + b, color = 'red')\n",
    "\n",
    "plot_and_compare(data['c'], data['f'], m_scikit, b_scikit)"
   ]
  }
 ],
 "metadata": {
  "kernelspec": {
   "display_name": "Python 3",
   "language": "python",
   "name": "python3"
  },
  "language_info": {
   "codemirror_mode": {
    "name": "ipython",
    "version": 3
   },
   "file_extension": ".py",
   "mimetype": "text/x-python",
   "name": "python",
   "nbconvert_exporter": "python",
   "pygments_lexer": "ipython3",
   "version": "3.6.0"
  }
 },
 "nbformat": 4,
 "nbformat_minor": 2
}
