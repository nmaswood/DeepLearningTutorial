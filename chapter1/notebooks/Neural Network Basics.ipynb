{
 "cells": [
  {
   "cell_type": "markdown",
   "metadata": {},
   "source": [
    "# Neural Network\n",
    "\n",
    "##  What is a Neural Network?\n",
    "\n",
    "large number of highly interconnected processing elements (neurones) working in unison to solve specific problems.\n",
    "\n",
    "<img src=\"../pictures/nn_schematic.gif\">\n",
    "\n",
    "\n",
    "## What is a Neuron?\n",
    "\n",
    "A neuron is a node that accepts an input and __transforms__ it produce an output. When you __connect many neurons together in layers(in a network)__ you can model arbitrary functions.\n",
    "\n",
    "\n",
    "__Neurons are simple. But their arrangement in multi-layered networks is very powerful__\n",
    "\n",
    "\n",
    "<img src=\"../pictures/single_input.png\">\n",
    "\n",
    "\n",
    "# What can Neural Networks do?\n",
    "\n",
    "\n",
    "# classification\n",
    "\n",
    "<img src=\"../pictures/panda.png\">\n",
    "\n",
    "# Play Board Games really well ... \n",
    "\n",
    "<img src=\"../pictures/alpha_go.jpg\">\n",
    "\n",
    "# Self driving cars\n",
    "\n",
    "<img src=\"../pictures/self_driving.jpeg\">\n",
    "\n",
    "# More ...?\n",
    "\n",
    "\n"
   ]
  },
  {
   "cell_type": "code",
   "execution_count": 27,
   "metadata": {},
   "outputs": [
    {
     "data": {
      "text/plain": [
       "4.0878913872887352"
      ]
     },
     "execution_count": 27,
     "metadata": {},
     "output_type": "execute_result"
    }
   ],
   "source": [
    "import numpy as np\n",
    "\n",
    "\n",
    "# Let us say we are trying to predict life expectancy. We have the following input\n",
    " \n",
    "# Vegetables Eaten Per Week | Gym Visits Per Week | Years Livedk\n",
    "# 10                        |  3                  | 100\n",
    "# 0                         |  2                  | 71 \n",
    "# 1                         |  4                  | 68\n",
    "\n",
    "input_1, output_1  = np.array([10,3]).T, 100\n",
    "input_1, output_1  = np.array([0,2]).T, 71\n",
    "input_1, output_1  = np.array([1,4]).T, 68\n",
    "\n",
    "# Weights\n",
    "\n",
    "# weights start random and are trained such to produce the correct output\n",
    "\n",
    "weights_init = np.random.rand(2)\n",
    "bias_init = np.array([0,0])\n",
    "\n",
    "def neuron(f, p, weights, bias):\n",
    "    \n",
    "    \"\"\"\n",
    "    \n",
    "    Takes an input b performs matrix multiplication on it to produce output x.\n",
    "    X is then fed to the function f\n",
    "    \n",
    "    \"\"\"\n",
    "    \n",
    "    \n",
    "    res = weights @ (p + bias)\n",
    "    \n",
    "    return f(res)\n",
    "    \n",
    "def linear(x):\n",
    "    \n",
    "    return x\n",
    "\n",
    "def reLu(x):\n",
    "    \n",
    "    return max(0, x)\n",
    "\n",
    "neuron(reLu,input_1, weights_init, bias_init )"
   ]
  },
  {
   "cell_type": "markdown",
   "metadata": {},
   "source": [
    "# How we do train a network?\n",
    "\n",
    "* First define a cost function. A cost function is a measure of how \"good\" your neural network is doing.\n",
    "* Optimize that cost function with respect to the weights.\n",
    "\n",
    "$$ Cost = (\\text{Actual}_i - \\text{Prediction}_i)^2$$\n",
    "\n",
    "# Let's Start Talking Optimization"
   ]
  },
  {
   "cell_type": "code",
   "execution_count": null,
   "metadata": {
    "collapsed": true
   },
   "outputs": [],
   "source": []
  }
 ],
 "metadata": {
  "kernelspec": {
   "display_name": "Python 3",
   "language": "python",
   "name": "python3"
  },
  "language_info": {
   "codemirror_mode": {
    "name": "ipython",
    "version": 3
   },
   "file_extension": ".py",
   "mimetype": "text/x-python",
   "name": "python",
   "nbconvert_exporter": "python",
   "pygments_lexer": "ipython3",
   "version": "3.6.0"
  }
 },
 "nbformat": 4,
 "nbformat_minor": 2
}
