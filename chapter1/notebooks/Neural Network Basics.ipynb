{
 "cells": [
  {
   "cell_type": "markdown",
   "metadata": {},
   "source": [
    "# Neural Network\n",
    "\n",
    "##  What is a Neural Network?\n",
    "\n",
    "large number of highly interconnected processing elements (neurones) working in unison to solve specific problems.\n",
    "\n",
    "<img src=\"../pictures/nn_schematic.gif\">\n",
    "\n",
    "\n",
    "## What is a Neuron?\n",
    "\n",
    "A neuron is a node that accepts an input and __transforms__ it produce an output. When you __connect many neurons together in layers(in a network)__ you can model arbitrary functions.\n",
    "\n",
    "\n",
    "__Neurons are simple. But their arrangement in multi-layered networks is very powerful__\n",
    "\n",
    "\n",
    "<img src=\"../pictures/single_input.png\">\n",
    "\n",
    "\n",
    "# What can Neural Networks do?\n",
    "\n",
    "\n",
    "# classification\n",
    "\n",
    "<img src=\"../pictures/panda.png\">\n",
    "\n",
    "# Play Board Games really well ... \n",
    "\n",
    "<img src=\"../pictures/alpha_go.jpg\">\n",
    "\n",
    "# Self driving cars\n",
    "\n",
    "<img src=\"../pictures/self_driving.jpeg\">\n",
    "\n",
    "# More ...?\n",
    "\n",
    "\n"
   ]
  },
  {
   "cell_type": "markdown",
   "metadata": {},
   "source": [
    "\n"
   ]
  }
 ],
 "metadata": {
  "kernelspec": {
   "display_name": "Python 3",
   "language": "python",
   "name": "python3"
  },
  "language_info": {
   "codemirror_mode": {
    "name": "ipython",
    "version": 3
   },
   "file_extension": ".py",
   "mimetype": "text/x-python",
   "name": "python",
   "nbconvert_exporter": "python",
   "pygments_lexer": "ipython3",
   "version": "3.6.0"
  }
 },
 "nbformat": 4,
 "nbformat_minor": 2
}
