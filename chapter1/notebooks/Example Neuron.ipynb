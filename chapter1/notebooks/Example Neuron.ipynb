{
 "cells": [
  {
   "cell_type": "markdown",
   "metadata": {},
   "source": [
    "<img src=\"../pictures/single_input.png\">\n"
   ]
  },
  {
   "cell_type": "markdown",
   "metadata": {},
   "source": [
    "# The Sigmoid Function\n",
    "\n",
    "This function is smooth, differentiable and saturates.\n",
    "$$ f(x) = \\frac{1}{1 + e^-x}$$\n",
    "\n",
    "\n",
    "$$\\lim_{x \\to \\infty} f(x) = 1$$\n",
    "$$\\lim_{x \\to -\\infty} f(x) = 0$$"
   ]
  },
  {
   "cell_type": "code",
   "execution_count": 39,
   "metadata": {},
   "outputs": [
    {
     "data": {
      "text/html": [
       "<div>\n",
       "<table border=\"1\" class=\"dataframe\">\n",
       "  <thead>\n",
       "    <tr style=\"text-align: right;\">\n",
       "      <th></th>\n",
       "      <th>healthy</th>\n",
       "      <th>hours_in_gym/week</th>\n",
       "      <th>names</th>\n",
       "      <th>vegetables/week</th>\n",
       "    </tr>\n",
       "  </thead>\n",
       "  <tbody>\n",
       "    <tr>\n",
       "      <th>0</th>\n",
       "      <td>1.0</td>\n",
       "      <td>10</td>\n",
       "      <td>John</td>\n",
       "      <td>6</td>\n",
       "    </tr>\n",
       "    <tr>\n",
       "      <th>1</th>\n",
       "      <td>-1.0</td>\n",
       "      <td>0</td>\n",
       "      <td>Peter</td>\n",
       "      <td>4</td>\n",
       "    </tr>\n",
       "    <tr>\n",
       "      <th>2</th>\n",
       "      <td>NaN</td>\n",
       "      <td>4</td>\n",
       "      <td>Nasr</td>\n",
       "      <td>3</td>\n",
       "    </tr>\n",
       "  </tbody>\n",
       "</table>\n",
       "</div>"
      ],
      "text/plain": [
       "   healthy  hours_in_gym/week  names  vegetables/week\n",
       "0      1.0                 10   John                6\n",
       "1     -1.0                  0  Peter                4\n",
       "2      NaN                  4   Nasr                3"
      ]
     },
     "metadata": {},
     "output_type": "display_data"
    }
   ],
   "source": [
    "\n",
    "from IPython.display import display\n",
    "import pandas as pd\n",
    "\n",
    "df = pd.DataFrame({\n",
    "    \"names\": ['John', 'Peter','Nasr'],\n",
    "    \"vegetables/week\":[6,4,3],\n",
    "    \"hours_in_gym/week\":[10,0,4],\n",
    "    \"healthy\": [1,-1,None]\n",
    "    \n",
    "})\n",
    "\n",
    "display(df)"
   ]
  },
  {
   "cell_type": "markdown",
   "metadata": {},
   "source": [
    "<img src=\"../pictures/nn_schematic.gif\">\n"
   ]
  },
  {
   "cell_type": "code",
   "execution_count": 6,
   "metadata": {},
   "outputs": [
    {
     "data": {
      "text/plain": [
       "1.5384164865059742"
      ]
     },
     "execution_count": 6,
     "metadata": {},
     "output_type": "execute_result"
    }
   ],
   "source": [
    "\n",
    "import numpy as np\n",
    "\n",
    "\n",
    "def create_init_variables():\n",
    "    \n",
    "    \"\"\"\n",
    "    \n",
    "    Creates sample variables to run through neural network.\n",
    "    \n",
    "    \"\"\"\n",
    "    \n",
    "\n",
    "    nasr_input = np.array([4,3]).T\n",
    "\n",
    "    weights_init = np.random.rand(2)\n",
    "    bias_init = np.array([0,0])\n",
    "    \n",
    "    return nasr_input, weights_init, bias_init\n",
    "\n",
    "nasr_inputs, weights, bias = create_init_variables()\n",
    "\n",
    "def sigmoid(x):\n",
    "    \n",
    "    \"\"\"\n",
    "    \n",
    "    Implements the sigmoid activation function.\n",
    "    It is a smooth function with a well defined derivative.\n",
    "    \n",
    "    \"\"\"\n",
    "    return 1 / (1 + np.exp(-x))\n",
    "\n",
    "\n",
    "def neuron(f, p, w, b):\n",
    "    \n",
    "    \"\"\"\n",
    "    \n",
    "    Takes an input b performs matrix multiplication on it to produce output x.\n",
    "    X is then fed to the function f\n",
    "    \n",
    "    \"\"\"\n",
    "   \n",
    "    z = (p * w) + b\n",
    "    \n",
    "    return f(z)\n",
    "\n",
    "(\n",
    "    neuron(sigmoid, nasr_inputs[0], weights[0], bias[0]) + \n",
    "    neuron(sigmoid, nasr_inputs[1], weights[1], bias[1])\n",
    ")"
   ]
  },
  {
   "cell_type": "code",
   "execution_count": null,
   "metadata": {
    "collapsed": true
   },
   "outputs": [],
   "source": []
  }
 ],
 "metadata": {
  "celltoolbar": "Edit Metadata",
  "kernelspec": {
   "display_name": "Python 3",
   "language": "python",
   "name": "python3"
  },
  "language_info": {
   "codemirror_mode": {
    "name": "ipython",
    "version": 3
   },
   "file_extension": ".py",
   "mimetype": "text/x-python",
   "name": "python",
   "nbconvert_exporter": "python",
   "pygments_lexer": "ipython3",
   "version": "3.6.0"
  }
 },
 "nbformat": 4,
 "nbformat_minor": 2
}
